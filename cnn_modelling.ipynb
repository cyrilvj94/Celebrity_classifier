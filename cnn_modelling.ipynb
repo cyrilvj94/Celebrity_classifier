{
 "cells": [
  {
   "cell_type": "code",
   "execution_count": 1,
   "metadata": {
    "colab": {
     "base_uri": "https://localhost:8080/",
     "height": 34
    },
    "executionInfo": {
     "elapsed": 34597,
     "status": "ok",
     "timestamp": 1602838139980,
     "user": {
      "displayName": "Cyril Joseph",
      "photoUrl": "https://lh3.googleusercontent.com/-7aw1kY3yIe0/AAAAAAAAAAI/AAAAAAAAAY8/wSeLjADwXlw/s64/photo.jpg",
      "userId": "17489090625350518570"
     },
     "user_tz": -330
    },
    "id": "YKVm3w8WMXuG",
    "outputId": "c398ec83-50a3-4b00-8d2e-5151260e2c8d"
   },
   "outputs": [
    {
     "name": "stdout",
     "output_type": "stream",
     "text": [
      "Mounted at /content/drive/\n"
     ]
    }
   ],
   "source": [
    "from google.colab import drive\n",
    "drive.mount(\"/content/drive/\")"
   ]
  },
  {
   "cell_type": "code",
   "execution_count": 4,
   "metadata": {
    "executionInfo": {
     "elapsed": 1815,
     "status": "ok",
     "timestamp": 1602838261574,
     "user": {
      "displayName": "Cyril Joseph",
      "photoUrl": "https://lh3.googleusercontent.com/-7aw1kY3yIe0/AAAAAAAAAAI/AAAAAAAAAY8/wSeLjADwXlw/s64/photo.jpg",
      "userId": "17489090625350518570"
     },
     "user_tz": -330
    },
    "id": "XPq3trjEM6UB"
   },
   "outputs": [],
   "source": [
    "from tensorflow.keras.models import Sequential\n",
    "from tensorflow.keras.layers import Dense, Dropout, Conv2D, MaxPool2D, Flatten, BatchNormalization\n",
    "from tensorflow.keras.preprocessing.image import  ImageDataGenerator\n",
    "from tensorflow.keras.callbacks import ModelCheckpoint\n",
    "import os "
   ]
  },
  {
   "cell_type": "code",
   "execution_count": 3,
   "metadata": {
    "executionInfo": {
     "elapsed": 2025,
     "status": "ok",
     "timestamp": 1602838211459,
     "user": {
      "displayName": "Cyril Joseph",
      "photoUrl": "https://lh3.googleusercontent.com/-7aw1kY3yIe0/AAAAAAAAAAI/AAAAAAAAAY8/wSeLjADwXlw/s64/photo.jpg",
      "userId": "17489090625350518570"
     },
     "user_tz": -330
    },
    "id": "6Sf2OAdPmc4j"
   },
   "outputs": [],
   "source": [
    "class CNN_model:\n",
    "    \"\"\"\n",
    "    Contains all the files necessary for creating the model\n",
    "\n",
    "    \"\"\"\n",
    "    def __init__(self):\n",
    "        pass\n",
    "\n",
    "    def obtain_data(self, directory_path, target_size = (256, 256), batch_size = 32, ):\n",
    "        \"\"\"\n",
    "        Creates the tuple directory iterator of shape (batch_size, target_height, target_width, channesls), (batch_size)\n",
    "\n",
    "        :param : directory_path : directory containing all the training batch files\n",
    "        :param target_size : target size of the output image\n",
    "        :param batch_size : batch size\n",
    "        :return: directory iterator\n",
    "\n",
    "        \"\"\"\n",
    "        self.target_size = target_size\n",
    "        data_gen = ImageDataGenerator(rescale= 1.0/255)\n",
    "        data  = data_gen.flow_from_directory(directory_path , target_size=target_size,\n",
    "                                            class_mode='categorical', batch_size = batch_size,)\n",
    "        return data\n",
    "\n",
    "    def create_model(self,  ):\n",
    "        model = Sequential()\n",
    "        model.add(layer=Conv2D(filters=32, kernel_size=(16, 16), strides=(2, 2),\n",
    "                               activation='relu',\n",
    "                               input_shape=(256, 256, 3)\n",
    "                               ))\n",
    "        model.add(layer=MaxPool2D(pool_size=(2, 2)))\n",
    "        model.add(layer=BatchNormalization())\n",
    "        model.add(layer=Conv2D(filters=64, kernel_size=(4, 4), strides=(2, 2),\n",
    "                               activation='relu',\n",
    "                               ))\n",
    "\n",
    "        model.add(layer=MaxPool2D(pool_size=(2, 2)))\n",
    "        model.add(layer=Flatten())\n",
    "        model.add(layer=Dense(120, activation='relu'))\n",
    "        model.add(layer=Dropout(rate=0.2))\n",
    "        model.add(layer=Dense(60, activation='relu'))\n",
    "        model.add(layer=Dense(4, activation='softmax'))\n",
    "        print(model.summary())\n",
    "        return model\n",
    "\n",
    "    def compile_train(self, model, train_set, test_set, batch_size = 32 , epochs = 6 ):\n",
    "        model.compile(loss='categorical_crossentropy', optimizer='adam',\n",
    "                      metrics=['accuracy'])\n",
    "        checkpoint = ModelCheckpoint('model.h5', monitor='val_accuracy', verbose=1, save_best_only=True, mode='max')\n",
    "        callbacks_list = [checkpoint]\n",
    "        model.fit(train_set, epochs=epochs, verbose=1,\n",
    "                  validation_data = test_set, shuffle=True,callbacks = callbacks_list )\n",
    "        return model\n"
   ]
  },
  {
   "cell_type": "code",
   "execution_count": 6,
   "metadata": {
    "colab": {
     "base_uri": "https://localhost:8080/",
     "height": 51
    },
    "executionInfo": {
     "elapsed": 5035,
     "status": "ok",
     "timestamp": 1602838296634,
     "user": {
      "displayName": "Cyril Joseph",
      "photoUrl": "https://lh3.googleusercontent.com/-7aw1kY3yIe0/AAAAAAAAAAI/AAAAAAAAAY8/wSeLjADwXlw/s64/photo.jpg",
      "userId": "17489090625350518570"
     },
     "user_tz": -330
    },
    "id": "mnL73NVcmjm3",
    "outputId": "92ff29cc-85f9-4aaf-9ede-a6a05d464dde"
   },
   "outputs": [
    {
     "name": "stdout",
     "output_type": "stream",
     "text": [
      "Found 1238 images belonging to 4 classes.\n",
      "Found 196 images belonging to 4 classes.\n"
     ]
    }
   ],
   "source": [
    "ins = CNN_model()\n",
    "\n",
    "train_set = ins.obtain_data('/content/drive/My Drive/Datasets/Dataset_football/Dataset/Train_set')\n",
    "test_set = ins.obtain_data('/content/drive/My Drive/Datasets/Dataset_football/Dataset/Test_set')"
   ]
  },
  {
   "cell_type": "code",
   "execution_count": 7,
   "metadata": {
    "colab": {
     "base_uri": "https://localhost:8080/",
     "height": 510
    },
    "executionInfo": {
     "elapsed": 1484,
     "status": "ok",
     "timestamp": 1602838317111,
     "user": {
      "displayName": "Cyril Joseph",
      "photoUrl": "https://lh3.googleusercontent.com/-7aw1kY3yIe0/AAAAAAAAAAI/AAAAAAAAAY8/wSeLjADwXlw/s64/photo.jpg",
      "userId": "17489090625350518570"
     },
     "user_tz": -330
    },
    "id": "egSqc211m4Ba",
    "outputId": "234c7fcb-6d9e-4c23-bd7e-226792390178"
   },
   "outputs": [
    {
     "name": "stdout",
     "output_type": "stream",
     "text": [
      "Model: \"sequential\"\n",
      "_________________________________________________________________\n",
      "Layer (type)                 Output Shape              Param #   \n",
      "=================================================================\n",
      "conv2d (Conv2D)              (None, 121, 121, 32)      24608     \n",
      "_________________________________________________________________\n",
      "max_pooling2d (MaxPooling2D) (None, 60, 60, 32)        0         \n",
      "_________________________________________________________________\n",
      "batch_normalization (BatchNo (None, 60, 60, 32)        128       \n",
      "_________________________________________________________________\n",
      "conv2d_1 (Conv2D)            (None, 29, 29, 64)        32832     \n",
      "_________________________________________________________________\n",
      "max_pooling2d_1 (MaxPooling2 (None, 14, 14, 64)        0         \n",
      "_________________________________________________________________\n",
      "flatten (Flatten)            (None, 12544)             0         \n",
      "_________________________________________________________________\n",
      "dense (Dense)                (None, 120)               1505400   \n",
      "_________________________________________________________________\n",
      "dropout (Dropout)            (None, 120)               0         \n",
      "_________________________________________________________________\n",
      "dense_1 (Dense)              (None, 60)                7260      \n",
      "_________________________________________________________________\n",
      "dense_2 (Dense)              (None, 4)                 244       \n",
      "=================================================================\n",
      "Total params: 1,570,472\n",
      "Trainable params: 1,570,408\n",
      "Non-trainable params: 64\n",
      "_________________________________________________________________\n",
      "None\n"
     ]
    }
   ],
   "source": [
    "model = ins.create_model()"
   ]
  },
  {
   "cell_type": "code",
   "execution_count": 9,
   "metadata": {
    "colab": {
     "base_uri": "https://localhost:8080/",
     "height": 425
    },
    "executionInfo": {
     "elapsed": 851748,
     "status": "ok",
     "timestamp": 1602839228526,
     "user": {
      "displayName": "Cyril Joseph",
      "photoUrl": "https://lh3.googleusercontent.com/-7aw1kY3yIe0/AAAAAAAAAAI/AAAAAAAAAY8/wSeLjADwXlw/s64/photo.jpg",
      "userId": "17489090625350518570"
     },
     "user_tz": -330
    },
    "id": "fn24nlvum9Ng",
    "outputId": "7f719f2a-ab5a-4bfc-85e8-22df3fc5e1cc"
   },
   "outputs": [
    {
     "name": "stdout",
     "output_type": "stream",
     "text": [
      "Epoch 1/6\n",
      "39/39 [==============================] - ETA: 0s - loss: 1.4498 - accuracy: 0.3821\n",
      "Epoch 00001: val_accuracy improved from -inf to 0.38265, saving model to model.h5\n",
      "39/39 [==============================] - 309s 8s/step - loss: 1.4498 - accuracy: 0.3821 - val_loss: 1.2390 - val_accuracy: 0.3827\n",
      "Epoch 2/6\n",
      "39/39 [==============================] - ETA: 0s - loss: 1.1078 - accuracy: 0.5452\n",
      "Epoch 00002: val_accuracy improved from 0.38265 to 0.44388, saving model to model.h5\n",
      "39/39 [==============================] - 103s 3s/step - loss: 1.1078 - accuracy: 0.5452 - val_loss: 1.2426 - val_accuracy: 0.4439\n",
      "Epoch 3/6\n",
      "39/39 [==============================] - ETA: 0s - loss: 1.0032 - accuracy: 0.6050\n",
      "Epoch 00003: val_accuracy improved from 0.44388 to 0.54592, saving model to model.h5\n",
      "39/39 [==============================] - 103s 3s/step - loss: 1.0032 - accuracy: 0.6050 - val_loss: 1.1040 - val_accuracy: 0.5459\n",
      "Epoch 4/6\n",
      "39/39 [==============================] - ETA: 0s - loss: 0.9542 - accuracy: 0.6317\n",
      "Epoch 00004: val_accuracy did not improve from 0.54592\n",
      "39/39 [==============================] - 103s 3s/step - loss: 0.9542 - accuracy: 0.6317 - val_loss: 1.1849 - val_accuracy: 0.4847\n",
      "Epoch 5/6\n",
      "39/39 [==============================] - ETA: 0s - loss: 0.8731 - accuracy: 0.6567\n",
      "Epoch 00005: val_accuracy improved from 0.54592 to 0.59694, saving model to model.h5\n",
      "39/39 [==============================] - 101s 3s/step - loss: 0.8731 - accuracy: 0.6567 - val_loss: 0.9319 - val_accuracy: 0.5969\n",
      "Epoch 6/6\n",
      "39/39 [==============================] - ETA: 0s - loss: 0.7854 - accuracy: 0.7011\n",
      "Epoch 00006: val_accuracy improved from 0.59694 to 0.64796, saving model to model.h5\n",
      "39/39 [==============================] - 108s 3s/step - loss: 0.7854 - accuracy: 0.7011 - val_loss: 0.9588 - val_accuracy: 0.6480\n"
     ]
    }
   ],
   "source": [
    "model = ins.compile_train(model, train_set, test_set)"
   ]
  },
  {
   "cell_type": "code",
   "execution_count": 11,
   "metadata": {
    "executionInfo": {
     "elapsed": 1009,
     "status": "ok",
     "timestamp": 1602840011509,
     "user": {
      "displayName": "Cyril Joseph",
      "photoUrl": "https://lh3.googleusercontent.com/-7aw1kY3yIe0/AAAAAAAAAAI/AAAAAAAAAY8/wSeLjADwXlw/s64/photo.jpg",
      "userId": "17489090625350518570"
     },
     "user_tz": -330
    },
    "id": "UTrVLjVstKJ6"
   },
   "outputs": [],
   "source": [
    "model.save('/content/drive/My Drive/best_model.h5')"
   ]
  },
  {
   "cell_type": "code",
   "execution_count": 5,
   "metadata": {
    "colab": {
     "base_uri": "https://localhost:8080/",
     "height": 34
    },
    "executionInfo": {
     "elapsed": 2421,
     "status": "ok",
     "timestamp": 1602838268986,
     "user": {
      "displayName": "Cyril Joseph",
      "photoUrl": "https://lh3.googleusercontent.com/-7aw1kY3yIe0/AAAAAAAAAAI/AAAAAAAAAY8/wSeLjADwXlw/s64/photo.jpg",
      "userId": "17489090625350518570"
     },
     "user_tz": -330
    },
    "id": "ME_KEFfMM4uy",
    "outputId": "4ea26f1b-6284-4b32-a9b7-3a58ae04b621"
   },
   "outputs": [
    {
     "data": {
      "text/plain": [
       "['Test_set', 'Train_set']"
      ]
     },
     "execution_count": 5,
     "metadata": {
      "tags": []
     },
     "output_type": "execute_result"
    }
   ],
   "source": [
    "os.listdir('/content/drive/My Drive/Datasets/Dataset_football/Dataset')"
   ]
  }
 ],
 "metadata": {
  "colab": {
   "authorship_tag": "ABX9TyM5BEbDz1VQstPHnVhbL/QB",
   "name": "cnn_modelling.ipynb",
   "provenance": []
  },
  "kernelspec": {
   "display_name": "Python 3",
   "language": "python",
   "name": "python3"
  },
  "language_info": {
   "codemirror_mode": {
    "name": "ipython",
    "version": 3
   },
   "file_extension": ".py",
   "mimetype": "text/x-python",
   "name": "python",
   "nbconvert_exporter": "python",
   "pygments_lexer": "ipython3",
   "version": "3.7.9"
  }
 },
 "nbformat": 4,
 "nbformat_minor": 1
}
